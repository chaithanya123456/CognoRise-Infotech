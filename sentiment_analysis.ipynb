{
  "cells": [
    {
      "cell_type": "code",
      "execution_count": 8,
      "metadata": {
        "id": "1Ogi_DmZpet8",
        "colab": {
          "base_uri": "https://localhost:8080/"
        },
        "outputId": "add17f11-0cb5-46fb-a101-684c36ea0e2f"
      },
      "outputs": [
        {
          "output_type": "stream",
          "name": "stdout",
          "text": [
            "Drive already mounted at /content/drive; to attempt to forcibly remount, call drive.mount(\"/content/drive\", force_remount=True).\n"
          ]
        }
      ],
      "source": [
        "from google.colab import drive\n",
        "drive.mount('/content/drive')"
      ]
    },
    {
      "cell_type": "markdown",
      "metadata": {
        "id": "O6oD3pMJprZd"
      },
      "source": [
        "SENTIMENT ANALYSIS ON MOVIE REVIEWS"
      ]
    },
    {
      "cell_type": "markdown",
      "metadata": {
        "id": "W_YhXIMgpzhJ"
      },
      "source": [
        "Naive Bayes Classifier\n",
        "\n",
        "> Add blockquote\n",
        "\n"
      ]
    },
    {
      "cell_type": "code",
      "execution_count": null,
      "metadata": {
        "colab": {
          "base_uri": "https://localhost:8080/"
        },
        "id": "ZB8CGSami81F",
        "outputId": "8d93b7bb-ffa8-432b-dcc6-1775d1e0781b"
      },
      "outputs": [
        {
          "name": "stdout",
          "output_type": "stream",
          "text": [
            "Accuracy: 0.8652\n",
            "Classification Report:\n",
            "              precision    recall  f1-score   support\n",
            "\n",
            "    negative       0.86      0.88      0.87      4961\n",
            "    positive       0.88      0.85      0.86      5039\n",
            "\n",
            "    accuracy                           0.87     10000\n",
            "   macro avg       0.87      0.87      0.87     10000\n",
            "weighted avg       0.87      0.87      0.87     10000\n",
            "\n",
            "Prediction: ['negative']\n"
          ]
        }
      ],
      "source": [
        "# Import necessary libraries\n",
        "import pandas as pd\n",
        "from sklearn.feature_extraction.text import TfidfVectorizer\n",
        "from sklearn.model_selection import train_test_split\n",
        "from sklearn.naive_bayes import MultinomialNB\n",
        "from sklearn.metrics import accuracy_score, classification_report\n",
        "\n",
        "# Load the dataset\n",
        "df = pd.read_csv('/content/drive/MyDrive/dataset/archive (3)/IMDB Dataset.csv')\n",
        "\n",
        "# Split the data into training and testing sets\n",
        "X_train, X_test, y_train, y_test = train_test_split(df['review'], df['sentiment'], test_size=0.2, random_state=42)\n",
        "\n",
        "# Create a TF-IDF vectorizer\n",
        "vectorizer = TfidfVectorizer(stop_words='english')\n",
        "\n",
        "# Fit the vectorizer to the training data and transform both the training and testing data\n",
        "X_train_tfidf = vectorizer.fit_transform(X_train)\n",
        "X_test_tfidf = vectorizer.transform(X_test)\n",
        "\n",
        "# Train a Naive Bayes classifier\n",
        "nb = MultinomialNB()\n",
        "nb.fit(X_train_tfidf, y_train)\n",
        "\n",
        "# Make predictions on the testing set\n",
        "y_pred = nb.predict(X_test_tfidf)\n",
        "\n",
        "# Evaluate the model\n",
        "print(\"Accuracy:\", accuracy_score(y_test, y_pred))\n",
        "print(\"Classification Report:\")\n",
        "print(classification_report(y_test, y_pred))\n",
        "\n",
        "# Use the model to classify new reviews\n",
        "new_review = \"I hated this movie. The acting was terrible.\"\n",
        "new_review_tfidf = vectorizer.transform([new_review])\n",
        "print(\"Prediction:\", nb.predict(new_review_tfidf))"
      ]
    },
    {
      "cell_type": "markdown",
      "metadata": {
        "id": "wwl-QbFdp637"
      },
      "source": [
        "RANDOM FOREST CLASSIFIER"
      ]
    },
    {
      "cell_type": "code",
      "execution_count": null,
      "metadata": {
        "colab": {
          "base_uri": "https://localhost:8080/"
        },
        "id": "DWgKd765j-wT",
        "outputId": "2ab48adf-e820-44f5-e3a5-9252d7d29500"
      },
      "outputs": [
        {
          "name": "stdout",
          "output_type": "stream",
          "text": [
            "Accuracy: 0.8568\n",
            "Classification Report:\n",
            "              precision    recall  f1-score   support\n",
            "\n",
            "    negative       0.85      0.87      0.86      4961\n",
            "    positive       0.87      0.85      0.86      5039\n",
            "\n",
            "    accuracy                           0.86     10000\n",
            "   macro avg       0.86      0.86      0.86     10000\n",
            "weighted avg       0.86      0.86      0.86     10000\n",
            "\n",
            "Prediction: ['negative']\n"
          ]
        }
      ],
      "source": [
        "# Import necessary libraries\n",
        "import pandas as pd\n",
        "from sklearn.feature_extraction.text import TfidfVectorizer\n",
        "from sklearn.model_selection import train_test_split\n",
        "from sklearn.ensemble import RandomForestClassifier\n",
        "from sklearn.metrics import accuracy_score, classification_report\n",
        "\n",
        "\n",
        "# Train a Random Forest classifier\n",
        "rf = RandomForestClassifier(n_estimators=100, random_state=42)\n",
        "rf.fit(X_train_tfidf, y_train)\n",
        "\n",
        "# Make predictions on the testing set\n",
        "y_pred = rf.predict(X_test_tfidf)\n",
        "\n",
        "# Evaluate the model\n",
        "print(\"Accuracy:\", accuracy_score(y_test, y_pred))\n",
        "print(\"Classification Report:\")\n",
        "print(classification_report(y_test, y_pred))\n",
        "\n",
        "# Use the model to classify new reviews\n",
        "new_review = \"I hated this movie. The acting was terrible.\"\n",
        "new_review_tfidf = vectorizer.transform([new_review])\n",
        "print(\"Prediction:\", rf.predict(new_review_tfidf))"
      ]
    },
    {
      "cell_type": "markdown",
      "metadata": {
        "id": "N5sqL5Fsqg_n"
      },
      "source": [
        "KNN"
      ]
    },
    {
      "cell_type": "code",
      "execution_count": null,
      "metadata": {
        "colab": {
          "background_save": true
        },
        "id": "h1KyvsDNqjCm",
        "outputId": "efe7a6d8-6b80-460b-cbbb-3a854faef191"
      },
      "outputs": [
        {
          "name": "stdout",
          "output_type": "stream",
          "text": [
            "Accuracy: 0.7763\n",
            "Classification Report:\n",
            "              precision    recall  f1-score   support\n",
            "\n",
            "    negative       0.79      0.75      0.77      4961\n",
            "    positive       0.76      0.80      0.78      5039\n",
            "\n",
            "    accuracy                           0.78     10000\n",
            "   macro avg       0.78      0.78      0.78     10000\n",
            "weighted avg       0.78      0.78      0.78     10000\n",
            "\n",
            "Prediction: ['negative']\n"
          ]
        }
      ],
      "source": [
        "# Import necessary libraries\n",
        "import pandas as pd\n",
        "from sklearn.feature_extraction.text import TfidfVectorizer\n",
        "from sklearn.model_selection import train_test_split\n",
        "from sklearn.neighbors import KNeighborsClassifier\n",
        "from sklearn.metrics import accuracy_score, classification_report\n",
        "\n",
        "\n",
        "# Train a KNN classifier\n",
        "knn = KNeighborsClassifier(n_neighbors=5)\n",
        "knn.fit(X_train_tfidf, y_train)\n",
        "\n",
        "# Make predictions on the testing set\n",
        "y_pred = knn.predict(X_test_tfidf)\n",
        "\n",
        "# Evaluate the model\n",
        "print(\"Accuracy:\", accuracy_score(y_test, y_pred))\n",
        "print(\"Classification Report:\")\n",
        "print(classification_report(y_test, y_pred))\n",
        "\n",
        "# Use the model to classify new reviews\n",
        "new_review = \"I hated this movie. The acting was terrible.\"\n",
        "new_review_tfidf = vectorizer.transform([new_review])\n",
        "print(\"Prediction:\", knn.predict(new_review_tfidf))"
      ]
    },
    {
      "cell_type": "markdown",
      "metadata": {
        "id": "5ziYV8ZEqpGu"
      },
      "source": [
        "XGBOOSTING\n"
      ]
    },
    {
      "cell_type": "code",
      "execution_count": 12,
      "metadata": {
        "id": "ULWs-v1cqrSM",
        "colab": {
          "base_uri": "https://localhost:8080/"
        },
        "outputId": "fe23ae4a-958b-4743-8274-f57f33812a8f"
      },
      "outputs": [
        {
          "output_type": "stream",
          "name": "stdout",
          "text": [
            "Accuracy: 0.8596\n"
          ]
        }
      ],
      "source": [
        "# Import necessary libraries\n",
        "import pandas as pd\n",
        "from sklearn.feature_extraction.text import TfidfVectorizer\n",
        "from sklearn.model_selection import train_test_split\n",
        "import xgboost as xgb\n",
        "from sklearn.metrics import accuracy_score, classification_report\n",
        "from sklearn.preprocessing import LabelEncoder\n",
        "from sklearn.feature_extraction.text import CountVectorizer\n",
        "\n",
        "le = LabelEncoder()\n",
        "y_train = le.fit_transform(y_train)\n",
        "y_test = le.transform(y_test)\n",
        "\n",
        "# Create a bag-of-words representation of the text data\n",
        "vectorizer = CountVectorizer(stop_words='english')\n",
        "X_train_count = vectorizer.fit_transform(X_train)\n",
        "X_test_count = vectorizer.transform(X_test)\n",
        "\n",
        "# Train an XG Boosting model on the data\n",
        "xgb_model = xgb.XGBClassifier()\n",
        "xgb_model.fit(X_train_count, y_train)\n",
        "\n",
        "# Evaluate the model on the test data\n",
        "y_pred = xgb_model.predict(X_test_count)\n",
        "print('Accuracy:', accuracy_score(y_test, y_pred))\n",
        "\n",
        "# Convert the data into DMatrix format for XGBoost\n",
        "dtrain = xgb.DMatrix(X_train_tfidf, label=y_train)\n",
        "dtest = xgb.DMatrix(X_test_tfidf, label=y_test)\n"
      ]
    },
    {
      "cell_type": "code",
      "source": [
        "\n",
        "\n",
        "\n",
        "# Evaluate the model\n",
        "print(\"Accuracy:\", accuracy_score(y_test, y_pred > 0.5))\n",
        "print(\"Classification Report:\")\n",
        "print(classification_report(y_test, y_pred > 0.5))\n"
      ],
      "metadata": {
        "colab": {
          "base_uri": "https://localhost:8080/"
        },
        "id": "-reZ2inTfD8Q",
        "outputId": "a68c0c69-d6d8-437c-a945-3d0e95b23ab6"
      },
      "execution_count": 14,
      "outputs": [
        {
          "output_type": "stream",
          "name": "stdout",
          "text": [
            "Accuracy: 0.8596\n",
            "Classification Report:\n",
            "              precision    recall  f1-score   support\n",
            "\n",
            "           0       0.87      0.84      0.86      4961\n",
            "           1       0.85      0.88      0.86      5039\n",
            "\n",
            "    accuracy                           0.86     10000\n",
            "   macro avg       0.86      0.86      0.86     10000\n",
            "weighted avg       0.86      0.86      0.86     10000\n",
            "\n"
          ]
        }
      ]
    },
    {
      "cell_type": "markdown",
      "metadata": {
        "id": "6sfLFeJXq0nv"
      },
      "source": [
        "LOGISTIC REGRESSION\n"
      ]
    },
    {
      "cell_type": "code",
      "execution_count": null,
      "metadata": {
        "colab": {
          "background_save": true
        },
        "id": "jnS8XFXfq3qQ",
        "outputId": "65473892-54f0-4dbd-b9dc-84a31a18edb6"
      },
      "outputs": [
        {
          "name": "stdout",
          "output_type": "stream",
          "text": [
            "Accuracy: 0.8941\n",
            "Classification Report:\n",
            "              precision    recall  f1-score   support\n",
            "\n",
            "    negative       0.91      0.88      0.89      4961\n",
            "    positive       0.88      0.91      0.90      5039\n",
            "\n",
            "    accuracy                           0.89     10000\n",
            "   macro avg       0.89      0.89      0.89     10000\n",
            "weighted avg       0.89      0.89      0.89     10000\n",
            "\n",
            "Prediction: ['negative']\n"
          ]
        }
      ],
      "source": [
        "# Import necessary libraries\n",
        "import pandas as pd\n",
        "from sklearn.feature_extraction.text import TfidfVectorizer\n",
        "from sklearn.model_selection import train_test_split\n",
        "from sklearn.linear_model import LogisticRegression\n",
        "from sklearn.metrics import accuracy_score, classification_report\n",
        "\n",
        "\n",
        "# Train a logistic regression model\n",
        "log_reg = LogisticRegression(max_iter=1000)\n",
        "log_reg.fit(X_train_tfidf, y_train)\n",
        "\n",
        "# Make predictions on the testing set\n",
        "y_pred = log_reg.predict(X_test_tfidf)\n",
        "\n",
        "# Evaluate the model\n",
        "print(\"Accuracy:\", accuracy_score(y_test, y_pred))\n",
        "print(\"Classification Report:\")\n",
        "print(classification_report(y_test, y_pred))\n",
        "\n",
        "# Use the model to classify new reviews\n",
        "new_review = \"I hated this movie. The acting was terrible.\"\n",
        "new_review_tfidf = vectorizer.transform([new_review])\n",
        "print(\"Prediction:\", log_reg.predict(new_review_tfidf))"
      ]
    },
    {
      "cell_type": "markdown",
      "metadata": {
        "id": "BhBTy4HNq8ZJ"
      },
      "source": [
        "DECISION TREE"
      ]
    },
    {
      "cell_type": "code",
      "execution_count": null,
      "metadata": {
        "colab": {
          "background_save": true
        },
        "id": "b2ix3AKfq_ye",
        "outputId": "2c9e3bc0-cfd3-4821-ce4a-5df995bbb3e3"
      },
      "outputs": [
        {
          "name": "stdout",
          "output_type": "stream",
          "text": [
            "Accuracy: 0.7265\n",
            "Classification Report:\n",
            "              precision    recall  f1-score   support\n",
            "\n",
            "    negative       0.72      0.73      0.73      4961\n",
            "    positive       0.73      0.72      0.73      5039\n",
            "\n",
            "    accuracy                           0.73     10000\n",
            "   macro avg       0.73      0.73      0.73     10000\n",
            "weighted avg       0.73      0.73      0.73     10000\n",
            "\n",
            "Prediction: ['negative']\n"
          ]
        }
      ],
      "source": [
        "# Import necessary libraries\n",
        "import pandas as pd\n",
        "from sklearn.feature_extraction.text import TfidfVectorizer\n",
        "from sklearn.model_selection import train_test_split\n",
        "from sklearn.tree import DecisionTreeClassifier\n",
        "from sklearn.metrics import accuracy_score, classification_report\n",
        "\n",
        "# Train a decision tree model\n",
        "dt_model = DecisionTreeClassifier(random_state=42)\n",
        "dt_model.fit(X_train_tfidf, y_train)\n",
        "\n",
        "# Make predictions on the testing set\n",
        "y_pred = dt_model.predict(X_test_tfidf)\n",
        "\n",
        "# Evaluate the model\n",
        "print(\"Accuracy:\", accuracy_score(y_test, y_pred))\n",
        "print(\"Classification Report:\")\n",
        "print(classification_report(y_test, y_pred))\n",
        "\n",
        "# Use the model to classify new reviews\n",
        "new_review = \"I hated this movie. The acting was terrible.\"\n",
        "new_review_tfidf = vectorizer.transform([new_review])\n",
        "print(\"Prediction:\", dt_model.predict(new_review_tfidf))"
      ]
    }
  ],
  "metadata": {
    "colab": {
      "provenance": []
    },
    "kernelspec": {
      "display_name": "Python 3",
      "name": "python3"
    },
    "language_info": {
      "name": "python"
    }
  },
  "nbformat": 4,
  "nbformat_minor": 0
}